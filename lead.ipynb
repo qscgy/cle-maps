{
 "cells": [
  {
   "cell_type": "code",
   "execution_count": null,
   "metadata": {
    "collapsed": true
   },
   "outputs": [],
   "source": [
    "%matplotlib inline\n",
    "import pandas as pd\n",
    "import numpy as np\n",
    "import matplotlib.pyplot as plt\n",
    "import geopandas as gpd"
   ]
  },
  {
   "cell_type": "code",
   "execution_count": null,
   "metadata": {},
   "outputs": [],
   "source": [
    "lead_levels = pd.read_csv(\"lead_census_tracts_cuyahoga.csv\", skiprows=3)    # lead level data\n",
    "map_df = gpd.read_file(\"tl_2015_39_tract.shp\")\n",
    "tract_ids = lead_levels.iloc[:,1]*100\n"
   ]
  },
  {
   "cell_type": "code",
   "execution_count": null,
   "metadata": {},
   "outputs": [],
   "source": [
    "lead_levels['lead_pct'] = lead_levels['lead_pct'].map(lambda x: max(0, x))"
   ]
  },
  {
   "cell_type": "code",
   "execution_count": null,
   "metadata": {},
   "outputs": [],
   "source": [
    "# converts tract number to 6-character FIPS string\n",
    "def format_geoid(g):\n",
    "    if len(g)==4:\n",
    "        return '00'+g[:-2]\n",
    "    elif len(g)==5:\n",
    "        return '0'+g[:-1]\n",
    "    else:\n",
    "        return g"
   ]
  },
  {
   "cell_type": "code",
   "execution_count": null,
   "metadata": {},
   "outputs": [],
   "source": [
    "geoids = []\n",
    "for i in tract_ids:\n",
    "    # print(format_geoid(str(int(i))))\n",
    "    geoids.append('39035'+format_geoid(str(int(i))))    # 39035 is the FIPS ID for Cuyahoga County, OH\n",
    "\n",
    "lead_levels['GEOID'] = geoids\n",
    "# print(lead_levels)"
   ]
  },
  {
   "cell_type": "code",
   "execution_count": null,
   "metadata": {},
   "outputs": [],
   "source": [
    "map_df = map_df[map_df['GEOID'].isin(geoids)]   # select only the tracts that are in the lead level dataset\n",
    "map_df = map_df.cx[-81.8:-81.5, 41.4:41.6]  # approximate Cleveland bounding box\n",
    "map_df = map_df.merge(lead_levels, on='GEOID')\n",
    "map_df.head()"
   ]
  },
  {
   "cell_type": "code",
   "execution_count": null,
   "metadata": {},
   "outputs": [],
   "source": [
    "plt.figure()\n",
    "ax = map_df.plot(column='lead_pct', figsize=(20, 16), legend=True)\n",
    "plt.title('Children under 6 with elevated blood lead levels')\n",
    "plt.show()"
   ]
  }
 ],
 "metadata": {
  "kernelspec": {
   "display_name": "Python 2",
   "language": "python",
   "name": "python2"
  },
  "language_info": {
   "codemirror_mode": {
    "name": "ipython",
    "version": 2
   },
   "file_extension": ".py",
   "mimetype": "text/x-python",
   "name": "python",
   "nbconvert_exporter": "python",
   "pygments_lexer": "ipython2",
   "version": "2.7.6"
  }
 },
 "nbformat": 4,
 "nbformat_minor": 0
}
